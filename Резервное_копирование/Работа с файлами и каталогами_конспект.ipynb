{
 "cells": [
  {
   "cell_type": "markdown",
   "metadata": {},
   "source": [
    "## Архивирование файлов и каталогов\n",
    "\n",
    "* [Архивирование файлов из разных каталогов](#t_1)\n",
    "* [Архивирование файлов и каталогов из разных каталогов](#t_2)\n",
    "* [Удаление старых архивов за исключением двух самых последних](#t_3)"
   ]
  },
  {
   "cell_type": "markdown",
   "metadata": {},
   "source": [
    "<a id='t_1'></a>\n",
    "### Архивирование файлов из разных каталогов"
   ]
  },
  {
   "cell_type": "markdown",
   "metadata": {},
   "source": [
    "Модуль `shutil` предоставляет удобные функции для работы с файлами и директориями.\n",
    "\n",
    "В частности, функция `shutil.make_archive` позволяет создавать архивы различных форматов: `zip`, `tar`, `gztar`, `bztar`, `xztar`.\n",
    "#### Алгоритм, как это можно сделать:\n",
    "- Собрать в список файлы, которые нужно добавить в архив.\n",
    "- Создать временный каталог.\n",
    "- Скопировать файлы из списка во временный каталог.\n",
    "- Создать архив из временного каталога.\n",
    "- Удалить временный каталог."
   ]
  },
  {
   "cell_type": "code",
   "execution_count": null,
   "metadata": {},
   "outputs": [],
   "source": [
    "import os\n",
    "import shutil\n",
    "\n",
    "\n",
    "# Список файлов, которые нужно добавить в архив\n",
    "files_to_archive = [\n",
    "    \"D:/PDF files/Баланс семьи.xls\",\n",
    "    \"D:/PDF files/Банковские платежи/Оплата ДС-19_январь21.pdf\",\n",
    "    \"D:/ЗАГРУЗКИ/calendar.csv\",\n",
    "    \"D:/Изображения/1-6-1.png\",\n",
    "]\n",
    "\n",
    "# Путь к временному каталогу\n",
    "temp_dir = \"D:/АРХИВ резервных копий файлов_2024-11-01/temp_archive_dir\"\n",
    "\n",
    "# Создаем временный каталог\n",
    "os.makedirs(temp_dir, exist_ok=True)\n",
    "\n",
    "# Копируем файлы во временный каталог\n",
    "for file in files_to_archive:\n",
    "    file_name = os.path.basename(file)\n",
    "    shutil.copy(file, os.path.join(temp_dir, file_name))\n",
    "\n",
    "# Путь к создаваемому архиву (без расширения)\n",
    "archive_name = \"D:/АРХИВ резервных копий файлов_2024-11-01/my_archive\"\n",
    "archive_format = \"zip\"  # Можно использовать 'zip', 'tar', 'gztar', 'bztar', 'xztar'\n",
    "\n",
    "# Создаем архив\n",
    "shutil.make_archive(archive_name, archive_format, temp_dir)\n",
    "\n",
    "# Удаляем временный каталог\n",
    "shutil.rmtree(temp_dir)\n",
    "\n",
    "print(f\"Архив {archive_name}.{archive_format} успешно создан.\")"
   ]
  },
  {
   "cell_type": "markdown",
   "metadata": {},
   "source": [
    "<a id='t_2'></a>\n",
    "### Архивирование файлов и каталогов из разных каталогов"
   ]
  },
  {
   "cell_type": "markdown",
   "metadata": {},
   "source": [
    "Для создания архива из различных файлов и каталогов, расположенных в разных местах, также можно использовать модуль `shutil`.\n",
    "\n",
    "#### Алгоритм, как это можно сделать:\n",
    "- Собрать все файлы и каталоги, которые нужно добавить в архив.\n",
    "- Создать временный каталог, куда будут скопированы все эти файлы и каталоги.\n",
    "- Использовать `shutil.make_archive` для создания архива из временного каталога.\n",
    "- Удалить временный каталог после создания архива."
   ]
  },
  {
   "cell_type": "code",
   "execution_count": null,
   "metadata": {},
   "outputs": [],
   "source": [
    "import os\n",
    "import shutil\n",
    "\n",
    "# Список файлов и каталогов, которые нужно добавить в архив\n",
    "files_and_dirs = [\n",
    "    \"/path/to/file1.txt\",\n",
    "    \"/path/to/directory1\",\n",
    "    \"/another/path/to/file2.txt\",\n",
    "    \"/another/path/to/directory2\",\n",
    "]\n",
    "\n",
    "# Путь к временному каталогу\n",
    "temp_dir = \"/path/to/temp_dir\"\n",
    "\n",
    "# Создаем временный каталог\n",
    "os.makedirs(temp_dir, exist_ok=True)\n",
    "\n",
    "# Копируем файлы и каталоги во временный каталог\n",
    "for item in files_and_dirs:\n",
    "    if os.path.isfile(item):\n",
    "        shutil.copy(item, temp_dir)\n",
    "    elif os.path.isdir(item):\n",
    "        base_name = os.path.basename(item)\n",
    "        shutil.copytree(item, os.path.join(temp_dir, base_name))\n",
    "\n",
    "# Путь к создаваемому архиву\n",
    "archive_path = \"/path/to/output/archive\"\n",
    "\n",
    "# Создаем архив\n",
    "shutil.make_archive(archive_path, \"zip\", temp_dir)\n",
    "\n",
    "# Удаляем временный каталог\n",
    "shutil.rmtree(temp_dir)\n",
    "\n",
    "print(f\"Архив создан: {archive_path}.zip\")"
   ]
  },
  {
   "cell_type": "markdown",
   "metadata": {},
   "source": [
    "<a id='t_3'></a>\n",
    "### Удаление старых архивов за исключением двух самых последних\n",
    "\n",
    "Программа сортирует архивы .zip по времени последней модификации, а затем удаляет все архивы, кроме двух самых последних."
   ]
  },
  {
   "cell_type": "code",
   "execution_count": null,
   "metadata": {},
   "outputs": [],
   "source": [
    "import os\n",
    "\n",
    "def delete_old_zips(directory):\n",
    "    # Находим все архивы .zip в каталоге по указанному пути\n",
    "    zip_files = [os.path.join(directory, filename) for filename in os.listdir(directory) if filename.endswith(\".zip\")]\n",
    "    # Сортируем по возрастанию времени внесения изменений в файл .zip архивов\n",
    "    zip_files.sort(key=lambda x: os.path.getmtime(x))\n",
    "    # Если в папке меньше или равно двум архивам, выводится сообщение, что недостаточно архивов для удаления.\n",
    "    if len(zip_files) > 2:\n",
    "        # Для всех архивов из списка кроме двух самых последних\n",
    "        for zip_file in zip_files[:-2]:\n",
    "            try:\n",
    "                os.remove(zip_file)  # удаляем архив\n",
    "                print(f\"Архив {zip_file} удален.\")\n",
    "            except FileNotFoundError:\n",
    "                print(f\"Архив {zip_file} не найден.\")\n",
    "            except Exception as e:\n",
    "                print(f\"Ошибка удаления архива: {e}\")\n",
    "    else:\n",
    "        print(\"В каталоге недостаточно архивов для удаления.\")\n",
    "\n",
    "directory = \"/path/to/directory\"\n",
    "delete_old_zips(directory)"
   ]
  }
 ],
 "metadata": {
  "kernelspec": {
   "display_name": "backup_venv",
   "language": "python",
   "name": "python3"
  },
  "language_info": {
   "name": "python",
   "version": "3.8.2"
  }
 },
 "nbformat": 4,
 "nbformat_minor": 2
}
