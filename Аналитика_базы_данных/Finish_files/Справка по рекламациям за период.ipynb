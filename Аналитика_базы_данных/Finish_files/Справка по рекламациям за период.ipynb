{
 "cells": [
  {
   "cell_type": "code",
   "execution_count": 1,
   "metadata": {},
   "outputs": [],
   "source": [
    "from datetime import date\n",
    "import pandas as pd\n",
    "import seaborn as sns\n",
    "import matplotlib.pyplot as plt\n",
    "\n",
    "import warnings\n",
    "warnings.simplefilter(action=\"ignore\", category=Warning)"
   ]
  },
  {
   "cell_type": "code",
   "execution_count": 2,
   "metadata": {},
   "outputs": [],
   "source": [
    "year_now = date.today().year  # текущий год\n",
    "# имя файла с учетом текущего года\n",
    "file = \"//Server/otk/1 ГАРАНТИЯ на сервере/\" + str(year_now) + \"-2019_ЖУРНАЛ УЧЁТА.xlsx\"\n",
    "\n",
    "df = pd.read_excel(\n",
    "            file,\n",
    "            sheet_name=str(year_now),\n",
    "            usecols=[\n",
    "                \"Месяц регистрации\",\n",
    "                \"Дата поступления сообщения в ОТК\",\n",
    "                \"Период выявления дефекта (отказа)\",\n",
    "                \"Наименование изделия\",\n",
    "                \"Обозначение изделия\",\n",
    "                \"Заводской номер изделия\",\n",
    "                \"Дата изготовления изделия\",\n",
    "                \"Пробег, наработка\",\n",
    "                \"Заявленный дефект изделия\"\n",
    "            ],\n",
    "            header=1,\n",
    "        )"
   ]
  },
  {
   "cell_type": "code",
   "execution_count": 3,
   "metadata": {},
   "outputs": [],
   "source": [
    "# Номер строки датафрейма (индекс строки) делаем как в базе данных\n",
    "df.index = df.index + 3"
   ]
  },
  {
   "cell_type": "code",
   "execution_count": 4,
   "metadata": {},
   "outputs": [],
   "source": [
    "# Удаляем строки в которых нет информации\n",
    "df_c = df.dropna(subset=[\"Период выявления дефекта (отказа)\"])"
   ]
  },
  {
   "cell_type": "code",
   "execution_count": null,
   "metadata": {},
   "outputs": [],
   "source": [
    "# Номер последней строки базы данных с информацией по рекламациям\n",
    "df_c.index[-1]"
   ]
  },
  {
   "cell_type": "code",
   "execution_count": 6,
   "metadata": {},
   "outputs": [],
   "source": [
    "# Строка базы данных по которой формировался предыдущий отчет: 1146\n",
    "# Диапазон строк базы данных по которым формируется отчет: 1147 - 1249"
   ]
  },
  {
   "cell_type": "code",
   "execution_count": 7,
   "metadata": {},
   "outputs": [],
   "source": [
    "# Формируем отчет за период\n",
    "df_res = df_c.loc[1147:].groupby(\n",
    "    [\n",
    "        \"Период выявления дефекта (отказа)\",\n",
    "        \"Наименование изделия\",\n",
    "        \"Обозначение изделия\"\n",
    "    ]\n",
    ")[\"Месяц регистрации\"].agg('count').to_frame().rename(columns={\"Месяц регистрации\": \"Количество\"})"
   ]
  },
  {
   "cell_type": "code",
   "execution_count": 8,
   "metadata": {},
   "outputs": [
    {
     "data": {
      "text/html": [
       "<div>\n",
       "<style scoped>\n",
       "    .dataframe tbody tr th:only-of-type {\n",
       "        vertical-align: middle;\n",
       "    }\n",
       "\n",
       "    .dataframe tbody tr th {\n",
       "        vertical-align: top;\n",
       "    }\n",
       "\n",
       "    .dataframe thead th {\n",
       "        text-align: right;\n",
       "    }\n",
       "</style>\n",
       "<table border=\"1\" class=\"dataframe\">\n",
       "  <thead>\n",
       "    <tr style=\"text-align: right;\">\n",
       "      <th></th>\n",
       "      <th></th>\n",
       "      <th></th>\n",
       "      <th>Количество</th>\n",
       "    </tr>\n",
       "    <tr>\n",
       "      <th>Период выявления дефекта (отказа)</th>\n",
       "      <th>Наименование изделия</th>\n",
       "      <th>Обозначение изделия</th>\n",
       "      <th></th>\n",
       "    </tr>\n",
       "  </thead>\n",
       "  <tbody>\n",
       "    <tr>\n",
       "      <th>Гомсельмаш - эксплуатация</th>\n",
       "      <th>компрессор</th>\n",
       "      <th>5336-3509012-05</th>\n",
       "      <td>4</td>\n",
       "    </tr>\n",
       "    <tr>\n",
       "      <th rowspan=\"14\" valign=\"top\">ММЗ - эксплуатация</th>\n",
       "      <th rowspan=\"8\" valign=\"top\">водяной насос</th>\n",
       "      <th>240-1307010-А1</th>\n",
       "      <td>4</td>\n",
       "    </tr>\n",
       "    <tr>\n",
       "      <th>245-1307010-А1</th>\n",
       "      <td>1</td>\n",
       "    </tr>\n",
       "    <tr>\n",
       "      <th>245-1307010-А1-11</th>\n",
       "      <td>7</td>\n",
       "    </tr>\n",
       "    <tr>\n",
       "      <th>260-1307116-02</th>\n",
       "      <td>16</td>\n",
       "    </tr>\n",
       "    <tr>\n",
       "      <th>260-1307116-05</th>\n",
       "      <td>4</td>\n",
       "    </tr>\n",
       "    <tr>\n",
       "      <th>260-1307116-06</th>\n",
       "      <td>4</td>\n",
       "    </tr>\n",
       "    <tr>\n",
       "      <th>260-1307116-15</th>\n",
       "      <td>4</td>\n",
       "    </tr>\n",
       "    <tr>\n",
       "      <th>3LD-1307010-Б</th>\n",
       "      <td>1</td>\n",
       "    </tr>\n",
       "    <tr>\n",
       "      <th rowspan=\"2\" valign=\"top\">компрессор</th>\n",
       "      <th>А29.05.000-БЗА</th>\n",
       "      <td>6</td>\n",
       "    </tr>\n",
       "    <tr>\n",
       "      <th>ПК 225-К-01</th>\n",
       "      <td>1</td>\n",
       "    </tr>\n",
       "    <tr>\n",
       "      <th rowspan=\"3\" valign=\"top\">турбокомпрессор</th>\n",
       "      <th>ТКР 6-01.01</th>\n",
       "      <td>1</td>\n",
       "    </tr>\n",
       "    <tr>\n",
       "      <th>ТКР 6.1-09.03</th>\n",
       "      <td>1</td>\n",
       "    </tr>\n",
       "    <tr>\n",
       "      <th>ТКР 7-02.08</th>\n",
       "      <td>2</td>\n",
       "    </tr>\n",
       "    <tr>\n",
       "      <th>центробежный масляный фильтр</th>\n",
       "      <th>260-1028010</th>\n",
       "      <td>1</td>\n",
       "    </tr>\n",
       "    <tr>\n",
       "      <th>ПАЗ - эксплуатация</th>\n",
       "      <th>компрессор</th>\n",
       "      <th>ПК 225-К-01</th>\n",
       "      <td>2</td>\n",
       "    </tr>\n",
       "    <tr>\n",
       "      <th>УРАЛ - эксплуатация</th>\n",
       "      <th>компрессор</th>\n",
       "      <th>5336-3509012-10</th>\n",
       "      <td>2</td>\n",
       "    </tr>\n",
       "    <tr>\n",
       "      <th>ЯМЗ - эксплуатация</th>\n",
       "      <th>водяной насос</th>\n",
       "      <th>КБПА 451363.21\\n(536.1307010-21)</th>\n",
       "      <td>41</td>\n",
       "    </tr>\n",
       "    <tr>\n",
       "      <th>запчасть</th>\n",
       "      <th>турбокомпрессор</th>\n",
       "      <th>ТКР 10-03.01</th>\n",
       "      <td>1</td>\n",
       "    </tr>\n",
       "  </tbody>\n",
       "</table>\n",
       "</div>"
      ],
      "text/plain": [
       "                                                                                                 Количество\n",
       "Период выявления дефекта (отказа) Наименование изделия         Обозначение изделия                         \n",
       "Гомсельмаш - эксплуатация         компрессор                   5336-3509012-05                            4\n",
       "ММЗ - эксплуатация                водяной насос                240-1307010-А1                             4\n",
       "                                                               245-1307010-А1                             1\n",
       "                                                               245-1307010-А1-11                          7\n",
       "                                                               260-1307116-02                            16\n",
       "                                                               260-1307116-05                             4\n",
       "                                                               260-1307116-06                             4\n",
       "                                                               260-1307116-15                             4\n",
       "                                                               3LD-1307010-Б                              1\n",
       "                                  компрессор                   А29.05.000-БЗА                             6\n",
       "                                                               ПК 225-К-01                                1\n",
       "                                  турбокомпрессор              ТКР 6-01.01                                1\n",
       "                                                               ТКР 6.1-09.03                              1\n",
       "                                                               ТКР 7-02.08                                2\n",
       "                                  центробежный масляный фильтр 260-1028010                                1\n",
       "ПАЗ - эксплуатация                компрессор                   ПК 225-К-01                                2\n",
       "УРАЛ - эксплуатация               компрессор                   5336-3509012-10                            2\n",
       "ЯМЗ - эксплуатация                водяной насос                КБПА 451363.21\\n(536.1307010-21)          41\n",
       "запчасть                          турбокомпрессор              ТКР 10-03.01                               1"
      ]
     },
     "execution_count": 8,
     "metadata": {},
     "output_type": "execute_result"
    }
   ],
   "source": [
    "df_res"
   ]
  },
  {
   "cell_type": "code",
   "execution_count": 9,
   "metadata": {},
   "outputs": [
    {
     "name": "stdout",
     "output_type": "stream",
     "text": [
      "Файл записан\n"
     ]
    }
   ],
   "source": [
    "with open(\n",
    "    f\"//Server/otk/Support_files_не_удалять!!!/Справка по дефектам за неделю.txt\",\n",
    "    \"w\",\n",
    "    encoding=\"utf-8\",\n",
    ") as f:\n",
    "    print(\n",
    "        f\"\\n\\n\\tСправка по поступившим рекламациям за период 08.10.24 - 22.10.24\",\n",
    "        file=f,\n",
    "    )\n",
    "    f.write(df_res.to_string())\n",
    "\n",
    "print(\"Файл записан\")"
   ]
  }
 ],
 "metadata": {
  "kernelspec": {
   "display_name": "analys_base_venv",
   "language": "python",
   "name": "python3"
  },
  "language_info": {
   "codemirror_mode": {
    "name": "ipython",
    "version": 3
   },
   "file_extension": ".py",
   "mimetype": "text/x-python",
   "name": "python",
   "nbconvert_exporter": "python",
   "pygments_lexer": "ipython3",
   "version": "3.8.2"
  },
  "orig_nbformat": 4
 },
 "nbformat": 4,
 "nbformat_minor": 2
}
