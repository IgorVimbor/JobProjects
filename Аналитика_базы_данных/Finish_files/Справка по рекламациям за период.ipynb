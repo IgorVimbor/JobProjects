{
 "cells": [
  {
   "cell_type": "code",
   "execution_count": 1,
   "metadata": {},
   "outputs": [],
   "source": [
    "from datetime import date\n",
    "import pandas as pd\n",
    "import seaborn as sns\n",
    "import matplotlib.pyplot as plt\n",
    "\n",
    "import warnings\n",
    "warnings.simplefilter(action=\"ignore\", category=Warning)"
   ]
  },
  {
   "cell_type": "code",
   "execution_count": 2,
   "metadata": {},
   "outputs": [],
   "source": [
    "year_now = date.today().year  # текущий год\n",
    "# имя файла с учетом текущего года\n",
    "file = \"//Server/otk/1 ГАРАНТИЯ на сервере/\" + str(year_now) + \"-2019_ЖУРНАЛ УЧЁТА.xlsx\"\n",
    "\n",
    "df = pd.read_excel(\n",
    "            file,\n",
    "            sheet_name=str(year_now),\n",
    "            usecols=[\n",
    "                \"Месяц регистрации\",\n",
    "                \"Дата поступления сообщения в ОТК\",\n",
    "                \"Период выявления дефекта (отказа)\",\n",
    "                \"Наименование изделия\",\n",
    "                \"Обозначение изделия\",\n",
    "                \"Заводской номер изделия\",\n",
    "                \"Дата изготовления изделия\",\n",
    "                \"Пробег, наработка\",\n",
    "                \"Заявленный дефект изделия\"\n",
    "            ],\n",
    "            header=1,\n",
    "        )"
   ]
  },
  {
   "cell_type": "code",
   "execution_count": 3,
   "metadata": {},
   "outputs": [],
   "source": [
    "df.index = df.index + 3"
   ]
  },
  {
   "cell_type": "code",
   "execution_count": 4,
   "metadata": {},
   "outputs": [],
   "source": [
    "df_c = df[df['Месяц регистрации'] == \"сентябрь\"].dropna(subset=['Дата поступления сообщения в ОТК'])"
   ]
  },
  {
   "cell_type": "code",
   "execution_count": 5,
   "metadata": {},
   "outputs": [
    {
     "data": {
      "text/plain": [
       "Index([1037, 1038, 1039, 1040, 1041, 1042, 1043, 1044, 1046, 1047, 1048, 1049,\n",
       "       1050, 1051, 1052, 1053, 1054, 1055, 1056, 1057, 1058, 1059, 1060, 1061,\n",
       "       1062, 1063, 1064, 1065, 1066, 1067, 1068, 1069, 1070, 1071, 1072, 1073,\n",
       "       1074, 1075, 1076, 1079, 1080, 1081, 1082, 1083, 1084, 1085, 1086, 1087,\n",
       "       1088, 1097, 1098, 1099, 1100, 1101, 1102, 1103, 1104, 1105, 1106, 1107,\n",
       "       1108, 1109, 1110, 1111, 1112, 1114, 1115, 1116, 1120, 1121, 1122, 1123,\n",
       "       1124],\n",
       "      dtype='int64')"
      ]
     },
     "execution_count": 5,
     "metadata": {},
     "output_type": "execute_result"
    }
   ],
   "source": [
    "df_c.index"
   ]
  },
  {
   "cell_type": "code",
   "execution_count": 6,
   "metadata": {},
   "outputs": [
    {
     "data": {
      "text/plain": [
       "1124"
      ]
     },
     "execution_count": 6,
     "metadata": {},
     "output_type": "execute_result"
    }
   ],
   "source": [
    "# Крайняя строка базы данных по которой формировался предыдущий отчет: 1087\n",
    "# Диапазон строк базы данных по которым формируется отчет: 1088 - 1124"
   ]
  },
  {
   "cell_type": "code",
   "execution_count": 7,
   "metadata": {},
   "outputs": [],
   "source": [
    "# Формируем отчет за период \n",
    "df_res = df_c.loc[1088:].groupby(\n",
    "    [\n",
    "        \"Период выявления дефекта (отказа)\", \n",
    "        \"Наименование изделия\", \n",
    "        \"Обозначение изделия\"\n",
    "    ]\n",
    ")[\"Заявленный дефект изделия\"].agg(['count', 'unique']).rename(columns={'count': 'Количество', 'unique': 'Дефект'})"
   ]
  },
  {
   "cell_type": "code",
   "execution_count": 8,
   "metadata": {},
   "outputs": [
    {
     "data": {
      "text/html": [
       "<div>\n",
       "<style scoped>\n",
       "    .dataframe tbody tr th:only-of-type {\n",
       "        vertical-align: middle;\n",
       "    }\n",
       "\n",
       "    .dataframe tbody tr th {\n",
       "        vertical-align: top;\n",
       "    }\n",
       "\n",
       "    .dataframe thead th {\n",
       "        text-align: right;\n",
       "    }\n",
       "</style>\n",
       "<table border=\"1\" class=\"dataframe\">\n",
       "  <thead>\n",
       "    <tr style=\"text-align: right;\">\n",
       "      <th></th>\n",
       "      <th></th>\n",
       "      <th></th>\n",
       "      <th>Количество</th>\n",
       "      <th>Дефект</th>\n",
       "    </tr>\n",
       "    <tr>\n",
       "      <th>Период выявления дефекта (отказа)</th>\n",
       "      <th>Наименование изделия</th>\n",
       "      <th>Обозначение изделия</th>\n",
       "      <th></th>\n",
       "      <th></th>\n",
       "    </tr>\n",
       "  </thead>\n",
       "  <tbody>\n",
       "    <tr>\n",
       "      <th>ММЗ - АСП</th>\n",
       "      <th>водяной насос</th>\n",
       "      <th>245-1307010-A1-11</th>\n",
       "      <td>1</td>\n",
       "      <td>[течь]</td>\n",
       "    </tr>\n",
       "    <tr>\n",
       "      <th rowspan=\"2\" valign=\"top\">ММЗ - эксплуатация</th>\n",
       "      <th rowspan=\"2\" valign=\"top\">водяной насос</th>\n",
       "      <th>240-1307010-А1</th>\n",
       "      <td>1</td>\n",
       "      <td>[течь ОЖ]</td>\n",
       "    </tr>\n",
       "    <tr>\n",
       "      <th>3LD-1307010-Б</th>\n",
       "      <td>1</td>\n",
       "      <td>[Сорван вентилятор с посадочного места]</td>\n",
       "    </tr>\n",
       "    <tr>\n",
       "      <th rowspan=\"2\" valign=\"top\">ЯМЗ - эксплуатация</th>\n",
       "      <th>водяной насос</th>\n",
       "      <th>КБПА 451363.21\\n(536.1307010-21)</th>\n",
       "      <td>21</td>\n",
       "      <td>[течь ОЖ]</td>\n",
       "    </tr>\n",
       "    <tr>\n",
       "      <th>компрессор</th>\n",
       "      <th>5340.3509015-21\\n(ПК225 КБПА 064.700)</th>\n",
       "      <td>1</td>\n",
       "      <td>[не качает]</td>\n",
       "    </tr>\n",
       "  </tbody>\n",
       "</table>\n",
       "</div>"
      ],
      "text/plain": [
       "                                                                                              Количество  \\\n",
       "Период выявления дефекта (отказа) Наименование изделия Обозначение изделия                                 \n",
       "ММЗ - АСП                         водяной насос        245-1307010-A1-11                               1   \n",
       "ММЗ - эксплуатация                водяной насос        240-1307010-А1                                  1   \n",
       "                                                       3LD-1307010-Б                                   1   \n",
       "ЯМЗ - эксплуатация                водяной насос        КБПА 451363.21\\n(536.1307010-21)               21   \n",
       "                                  компрессор           5340.3509015-21\\n(ПК225 КБПА 064.700)           1   \n",
       "\n",
       "                                                                                                                               Дефект  \n",
       "Период выявления дефекта (отказа) Наименование изделия Обозначение изделия                                                             \n",
       "ММЗ - АСП                         водяной насос        245-1307010-A1-11                                                       [течь]  \n",
       "ММЗ - эксплуатация                водяной насос        240-1307010-А1                                                       [течь ОЖ]  \n",
       "                                                       3LD-1307010-Б                          [Сорван вентилятор с посадочного места]  \n",
       "ЯМЗ - эксплуатация                водяной насос        КБПА 451363.21\\n(536.1307010-21)                                     [течь ОЖ]  \n",
       "                                  компрессор           5340.3509015-21\\n(ПК225 КБПА 064.700)                              [не качает]  "
      ]
     },
     "execution_count": 8,
     "metadata": {},
     "output_type": "execute_result"
    }
   ],
   "source": [
    "df_res"
   ]
  },
  {
   "cell_type": "code",
   "execution_count": 9,
   "metadata": {},
   "outputs": [
    {
     "name": "stdout",
     "output_type": "stream",
     "text": [
      "Файл записан\n"
     ]
    }
   ],
   "source": [
    "with open(\n",
    "    f\"//Server/otk/Support_files_не_удалять!!!/Справка по дефектам за неделю.txt\",\n",
    "    \"w\",\n",
    "    encoding=\"utf-8\",\n",
    ") as f:\n",
    "    print(\n",
    "        f\"\\n\\n\\tСправка по поступившим рекламациям за период 03.09.24 - 09.09.24\",\n",
    "        file=f,\n",
    "    )\n",
    "    f.write(df_res.to_string())\n",
    "\n",
    "print(\"Файл записан\")"
   ]
  }
 ],
 "metadata": {
  "kernelspec": {
   "display_name": "Python 3.8.2 ('base_venv': venv)",
   "language": "python",
   "name": "python3"
  },
  "language_info": {
   "codemirror_mode": {
    "name": "ipython",
    "version": 3
   },
   "file_extension": ".py",
   "mimetype": "text/x-python",
   "name": "python",
   "nbconvert_exporter": "python",
   "pygments_lexer": "ipython3",
   "version": "3.8.2"
  },
  "orig_nbformat": 4,
  "vscode": {
   "interpreter": {
    "hash": "879bcfca1c9c4d8762be18e1e3486d9f9be337292eb3573feb891f4e6ef4740f"
   }
  }
 },
 "nbformat": 4,
 "nbformat_minor": 2
}
