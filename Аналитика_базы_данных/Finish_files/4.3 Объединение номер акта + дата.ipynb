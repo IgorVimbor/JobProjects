{
 "cells": [
  {
   "cell_type": "code",
   "execution_count": 11,
   "metadata": {},
   "outputs": [],
   "source": [
    "import pandas as pd\n",
    "\n",
    "file = '//Server/otk/Support_files_не_удалять!!!/Претензии_даты для ПЭО.xlsx'\n",
    "\n",
    "df = pd.read_excel(\n",
    "    file, \n",
    "    usecols=[\n",
    "        \"Номер акта исследования\", \n",
    "        \"Дата акта исследования\", \n",
    "        \"Дата поступления сообщения в ОТК\"\n",
    "    ]\n",
    ")\n",
    "\n",
    "df[\"Дата акта исследования\"] = df[\"Дата акта исследования\"].apply(lambda x: x.replace(x[6:8], \"\"))\n",
    "df[\"Дата поступления сообщения в ОТК\"] = df[\"Дата поступления сообщения в ОТК\"].apply(lambda x: x.replace(x[6:8], \"\"))"
   ]
  },
  {
   "cell_type": "code",
   "execution_count": 12,
   "metadata": {},
   "outputs": [
    {
     "data": {
      "text/html": [
       "<div>\n",
       "<style scoped>\n",
       "    .dataframe tbody tr th:only-of-type {\n",
       "        vertical-align: middle;\n",
       "    }\n",
       "\n",
       "    .dataframe tbody tr th {\n",
       "        vertical-align: top;\n",
       "    }\n",
       "\n",
       "    .dataframe thead th {\n",
       "        text-align: right;\n",
       "    }\n",
       "</style>\n",
       "<table border=\"1\" class=\"dataframe\">\n",
       "  <thead>\n",
       "    <tr style=\"text-align: right;\">\n",
       "      <th></th>\n",
       "      <th>Номер акта исследования</th>\n",
       "      <th>Дата акта исследования</th>\n",
       "      <th>Дата поступления сообщения в ОТК</th>\n",
       "    </tr>\n",
       "  </thead>\n",
       "  <tbody>\n",
       "    <tr>\n",
       "      <th>0</th>\n",
       "      <td>646</td>\n",
       "      <td>10.07.24</td>\n",
       "      <td>21.06.24</td>\n",
       "    </tr>\n",
       "    <tr>\n",
       "      <th>1</th>\n",
       "      <td>652</td>\n",
       "      <td>10.07.24</td>\n",
       "      <td>21.06.24</td>\n",
       "    </tr>\n",
       "  </tbody>\n",
       "</table>\n",
       "</div>"
      ],
      "text/plain": [
       "   Номер акта исследования Дата акта исследования  \\\n",
       "0                      646               10.07.24   \n",
       "1                      652               10.07.24   \n",
       "\n",
       "  Дата поступления сообщения в ОТК  \n",
       "0                         21.06.24  \n",
       "1                         21.06.24  "
      ]
     },
     "execution_count": 12,
     "metadata": {},
     "output_type": "execute_result"
    }
   ],
   "source": [
    "df"
   ]
  },
  {
   "cell_type": "code",
   "execution_count": 13,
   "metadata": {},
   "outputs": [],
   "source": [
    "df[\"comb_data\"] = df[\"Номер акта исследования\"].astype(str) + \" от \" + df[\"Дата акта исследования\"]"
   ]
  },
  {
   "cell_type": "code",
   "execution_count": 14,
   "metadata": {},
   "outputs": [
    {
     "name": "stdout",
     "output_type": "stream",
     "text": [
      "646 от 10.07.24\n",
      "652 от 10.07.24\n"
     ]
    }
   ],
   "source": [
    "# Если вывод не помещается - добавить после .to_list() срез, например [:15]\n",
    "print('\\n'.join(df[\"comb_data\"].to_list()))"
   ]
  },
  {
   "cell_type": "code",
   "execution_count": 15,
   "metadata": {},
   "outputs": [
    {
     "name": "stdout",
     "output_type": "stream",
     "text": [
      "21.06.24\n",
      "21.06.24\n"
     ]
    }
   ],
   "source": [
    "# Если вывод не помещается - добавить после .to_list() срез, например [:15]\n",
    "print('\\n'.join(df[\"Дата поступления сообщения в ОТК\"].to_list()))"
   ]
  }
 ],
 "metadata": {
  "kernelspec": {
   "display_name": "base_venv",
   "language": "python",
   "name": "python3"
  },
  "language_info": {
   "codemirror_mode": {
    "name": "ipython",
    "version": 3
   },
   "file_extension": ".py",
   "mimetype": "text/x-python",
   "name": "python",
   "nbconvert_exporter": "python",
   "pygments_lexer": "ipython3",
   "version": "3.11.1"
  },
  "orig_nbformat": 4
 },
 "nbformat": 4,
 "nbformat_minor": 2
}
