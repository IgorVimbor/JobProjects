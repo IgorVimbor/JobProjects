{
 "cells": [
  {
   "cell_type": "code",
   "execution_count": 8,
   "metadata": {},
   "outputs": [],
   "source": [
    "import pandas as pd\n",
    "\n",
    "file = '//Server/otk/Support_files_не_удалять!!!/Претензии_даты для ПЭО.xlsx'\n",
    "\n",
    "df = pd.read_excel(\n",
    "    file, \n",
    "    usecols=[\n",
    "        \"Номер акта исследования\", \n",
    "        \"Дата акта исследования\", \n",
    "        \"Дата поступления сообщения в ОТК\"\n",
    "    ]\n",
    ")\n",
    "\n",
    "df[\"Дата акта исследования\"] = df[\"Дата акта исследования\"].apply(lambda x: x.replace(x[6:8], \"\"))\n",
    "df[\"Дата поступления сообщения в ОТК\"] = df[\"Дата поступления сообщения в ОТК\"].apply(lambda x: x.replace(x[6:8], \"\"))"
   ]
  },
  {
   "cell_type": "code",
   "execution_count": 9,
   "metadata": {},
   "outputs": [
    {
     "data": {
      "text/html": [
       "<div>\n",
       "<style scoped>\n",
       "    .dataframe tbody tr th:only-of-type {\n",
       "        vertical-align: middle;\n",
       "    }\n",
       "\n",
       "    .dataframe tbody tr th {\n",
       "        vertical-align: top;\n",
       "    }\n",
       "\n",
       "    .dataframe thead th {\n",
       "        text-align: right;\n",
       "    }\n",
       "</style>\n",
       "<table border=\"1\" class=\"dataframe\">\n",
       "  <thead>\n",
       "    <tr style=\"text-align: right;\">\n",
       "      <th></th>\n",
       "      <th>Номер акта исследования</th>\n",
       "      <th>Дата акта исследования</th>\n",
       "      <th>Дата поступления сообщения в ОТК</th>\n",
       "    </tr>\n",
       "  </thead>\n",
       "  <tbody>\n",
       "    <tr>\n",
       "      <th>0</th>\n",
       "      <td>943</td>\n",
       "      <td>30.09.24</td>\n",
       "      <td>26.08.24</td>\n",
       "    </tr>\n",
       "    <tr>\n",
       "      <th>1</th>\n",
       "      <td>946</td>\n",
       "      <td>30.09.24</td>\n",
       "      <td>26.08.24</td>\n",
       "    </tr>\n",
       "    <tr>\n",
       "      <th>2</th>\n",
       "      <td>951</td>\n",
       "      <td>30.09.24</td>\n",
       "      <td>26.08.24</td>\n",
       "    </tr>\n",
       "    <tr>\n",
       "      <th>3</th>\n",
       "      <td>958</td>\n",
       "      <td>30.09.24</td>\n",
       "      <td>12.08.24</td>\n",
       "    </tr>\n",
       "    <tr>\n",
       "      <th>4</th>\n",
       "      <td>959</td>\n",
       "      <td>30.09.24</td>\n",
       "      <td>12.08.24</td>\n",
       "    </tr>\n",
       "    <tr>\n",
       "      <th>5</th>\n",
       "      <td>1001</td>\n",
       "      <td>11.10.24</td>\n",
       "      <td>10.10.24</td>\n",
       "    </tr>\n",
       "    <tr>\n",
       "      <th>6</th>\n",
       "      <td>1002</td>\n",
       "      <td>11.10.24</td>\n",
       "      <td>10.10.24</td>\n",
       "    </tr>\n",
       "    <tr>\n",
       "      <th>7</th>\n",
       "      <td>1003</td>\n",
       "      <td>11.10.24</td>\n",
       "      <td>10.10.24</td>\n",
       "    </tr>\n",
       "  </tbody>\n",
       "</table>\n",
       "</div>"
      ],
      "text/plain": [
       "   Номер акта исследования Дата акта исследования  \\\n",
       "0                      943               30.09.24   \n",
       "1                      946               30.09.24   \n",
       "2                      951               30.09.24   \n",
       "3                      958               30.09.24   \n",
       "4                      959               30.09.24   \n",
       "5                     1001               11.10.24   \n",
       "6                     1002               11.10.24   \n",
       "7                     1003               11.10.24   \n",
       "\n",
       "  Дата поступления сообщения в ОТК  \n",
       "0                         26.08.24  \n",
       "1                         26.08.24  \n",
       "2                         26.08.24  \n",
       "3                         12.08.24  \n",
       "4                         12.08.24  \n",
       "5                         10.10.24  \n",
       "6                         10.10.24  \n",
       "7                         10.10.24  "
      ]
     },
     "execution_count": 9,
     "metadata": {},
     "output_type": "execute_result"
    }
   ],
   "source": [
    "df"
   ]
  },
  {
   "cell_type": "code",
   "execution_count": 10,
   "metadata": {},
   "outputs": [],
   "source": [
    "df[\"comb_data\"] = df[\"Номер акта исследования\"].astype(str) + \" от \" + df[\"Дата акта исследования\"]"
   ]
  },
  {
   "cell_type": "code",
   "execution_count": 11,
   "metadata": {},
   "outputs": [
    {
     "name": "stdout",
     "output_type": "stream",
     "text": [
      "943 от 30.09.24\n",
      "946 от 30.09.24\n",
      "951 от 30.09.24\n",
      "958 от 30.09.24\n",
      "959 от 30.09.24\n",
      "1001 от 11.10.24\n",
      "1002 от 11.10.24\n",
      "1003 от 11.10.24\n"
     ]
    }
   ],
   "source": [
    "# Если вывод не помещается - добавить после .to_list() срез, например [:15]\n",
    "print('\\n'.join(df[\"comb_data\"].to_list()))"
   ]
  },
  {
   "cell_type": "code",
   "execution_count": 12,
   "metadata": {},
   "outputs": [
    {
     "name": "stdout",
     "output_type": "stream",
     "text": [
      "26.08.24\n",
      "26.08.24\n",
      "26.08.24\n",
      "12.08.24\n",
      "12.08.24\n",
      "10.10.24\n",
      "10.10.24\n",
      "10.10.24\n"
     ]
    }
   ],
   "source": [
    "# Если вывод не помещается - добавить после .to_list() срез, например [:15]\n",
    "print('\\n'.join(df[\"Дата поступления сообщения в ОТК\"].to_list()))"
   ]
  }
 ],
 "metadata": {
  "kernelspec": {
   "display_name": "base_venv",
   "language": "python",
   "name": "python3"
  },
  "language_info": {
   "codemirror_mode": {
    "name": "ipython",
    "version": 3
   },
   "file_extension": ".py",
   "mimetype": "text/x-python",
   "name": "python",
   "nbconvert_exporter": "python",
   "pygments_lexer": "ipython3",
   "version": "3.11.1"
  },
  "orig_nbformat": 4
 },
 "nbformat": 4,
 "nbformat_minor": 2
}
